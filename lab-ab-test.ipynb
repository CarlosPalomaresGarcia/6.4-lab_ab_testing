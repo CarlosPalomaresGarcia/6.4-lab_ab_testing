{
 "cells": [
  {
   "attachments": {},
   "cell_type": "markdown",
   "id": "angry-pearl",
   "metadata": {
    "toc": true
   },
   "source": [
    "<h1>Table of Contents<span class=\"tocSkip\"></span></h1>\n",
    "<div class=\"toc\"><ul class=\"toc-item\"><li><span><a href=\"#AB-Testing\" data-toc-modified-id=\"AB-Testing-1\"><span class=\"toc-item-num\">1&nbsp;&nbsp;</span>AB-Testing</a></span></li></ul></div>"
   ]
  },
  {
   "attachments": {},
   "cell_type": "markdown",
   "id": "c92ba6e0",
   "metadata": {},
   "source": [
    "# AB-Testing\n",
    "\n",
    "![cats](images/cats.jpeg)\n",
    "\n",
    "\n",
    "Imaginad que somos los cientificos de datos de la empresa de videojuegos Tactile Entertainment. Los desarrolladores del juego Cookie Cats pretenden introducir un cambio en el juego para aumentar la retencion de los jugadores. En cierto nivel del juego los jugadores se encuentran una puerta que les obliga a esperar o a pagar la app. Actualmente la puerta se encuentra en nivel 30 y se pretende pasar al nivel 40, para comprobar la retencion a 1 y 7 dias. Antes de realizar el cambio definitivo en el juego se raliza un test AB.\n",
    "\n",
    "Los datos estan alojados en `data/cookie_cats.csv`. Nuestro grupo de control sera la version actual `gate_30` y el grupo de tratamiento sera la version `gate_40`. Debemos realizar el test para 1 dia de retencion `retention_1` y para 7 dias `retention_7`."
   ]
  },
  {
   "cell_type": "code",
   "execution_count": 55,
   "id": "ac3b2f52",
   "metadata": {},
   "outputs": [],
   "source": [
    "# librerias\n",
    "\n",
    "import pandas as pd\n",
    "import numpy as np\n",
    "\n",
    "from statsmodels.stats.proportion import proportions_ztest, proportion_confint\n",
    "from scipy.stats import norm, sem\n",
    "\n",
    "import pylab as plt\n",
    "from scipy.stats import bernoulli, beta   \n",
    "from math import lgamma"
   ]
  },
  {
   "attachments": {},
   "cell_type": "markdown",
   "id": "0b93bc73",
   "metadata": {},
   "source": [
    "#### IMPORTACIÓN"
   ]
  },
  {
   "cell_type": "code",
   "execution_count": 23,
   "id": "7fe515c2",
   "metadata": {},
   "outputs": [
    {
     "data": {
      "text/html": [
       "<div>\n",
       "<style scoped>\n",
       "    .dataframe tbody tr th:only-of-type {\n",
       "        vertical-align: middle;\n",
       "    }\n",
       "\n",
       "    .dataframe tbody tr th {\n",
       "        vertical-align: top;\n",
       "    }\n",
       "\n",
       "    .dataframe thead th {\n",
       "        text-align: right;\n",
       "    }\n",
       "</style>\n",
       "<table border=\"1\" class=\"dataframe\">\n",
       "  <thead>\n",
       "    <tr style=\"text-align: right;\">\n",
       "      <th></th>\n",
       "      <th>userid</th>\n",
       "      <th>version</th>\n",
       "      <th>sum_gamerounds</th>\n",
       "      <th>retention_1</th>\n",
       "      <th>retention_7</th>\n",
       "    </tr>\n",
       "  </thead>\n",
       "  <tbody>\n",
       "    <tr>\n",
       "      <th>0</th>\n",
       "      <td>116</td>\n",
       "      <td>gate_30</td>\n",
       "      <td>3</td>\n",
       "      <td>False</td>\n",
       "      <td>False</td>\n",
       "    </tr>\n",
       "    <tr>\n",
       "      <th>1</th>\n",
       "      <td>337</td>\n",
       "      <td>gate_30</td>\n",
       "      <td>38</td>\n",
       "      <td>True</td>\n",
       "      <td>False</td>\n",
       "    </tr>\n",
       "    <tr>\n",
       "      <th>2</th>\n",
       "      <td>377</td>\n",
       "      <td>gate_40</td>\n",
       "      <td>165</td>\n",
       "      <td>True</td>\n",
       "      <td>False</td>\n",
       "    </tr>\n",
       "    <tr>\n",
       "      <th>3</th>\n",
       "      <td>483</td>\n",
       "      <td>gate_40</td>\n",
       "      <td>1</td>\n",
       "      <td>False</td>\n",
       "      <td>False</td>\n",
       "    </tr>\n",
       "    <tr>\n",
       "      <th>4</th>\n",
       "      <td>488</td>\n",
       "      <td>gate_40</td>\n",
       "      <td>179</td>\n",
       "      <td>True</td>\n",
       "      <td>True</td>\n",
       "    </tr>\n",
       "  </tbody>\n",
       "</table>\n",
       "</div>"
      ],
      "text/plain": [
       "   userid  version  sum_gamerounds  retention_1  retention_7\n",
       "0     116  gate_30               3        False        False\n",
       "1     337  gate_30              38         True        False\n",
       "2     377  gate_40             165         True        False\n",
       "3     483  gate_40               1        False        False\n",
       "4     488  gate_40             179         True         True"
      ]
     },
     "execution_count": 23,
     "metadata": {},
     "output_type": "execute_result"
    }
   ],
   "source": [
    "datos = pd.read_csv('data/cookie_cats.csv')\n",
    "datos.head()"
   ]
  },
  {
   "attachments": {},
   "cell_type": "markdown",
   "id": "2d1b52b7",
   "metadata": {},
   "source": [
    "#### TRANSFORMACIÓN"
   ]
  },
  {
   "cell_type": "code",
   "execution_count": 24,
   "id": "25c21ba1",
   "metadata": {},
   "outputs": [],
   "source": [
    "# No es necesario hacer ninguna trabsformacion.\n",
    "# No tiene nulos, ni fulas repetidas."
   ]
  },
  {
   "attachments": {},
   "cell_type": "markdown",
   "id": "7b7e8995",
   "metadata": {},
   "source": [
    "#### MUESTREO"
   ]
  },
  {
   "cell_type": "code",
   "execution_count": 25,
   "id": "3e8a632a",
   "metadata": {},
   "outputs": [
    {
     "data": {
      "text/plain": [
       "(retention_1  False   True\n",
       " version                  \n",
       " gate_30      24666  20034\n",
       " gate_40      25370  20119,\n",
       " retention_7  False  True\n",
       " version                 \n",
       " gate_30      36198  8502\n",
       " gate_40      37210  8279)"
      ]
     },
     "execution_count": 25,
     "metadata": {},
     "output_type": "execute_result"
    }
   ],
   "source": [
    "cross1 = pd.crosstab(datos['version'],datos['retention_1'])\n",
    "cross2 = pd.crosstab(datos['version'],datos['retention_7'])\n",
    "cross1, cross2"
   ]
  },
  {
   "cell_type": "code",
   "execution_count": 26,
   "id": "f98b58bc",
   "metadata": {},
   "outputs": [
    {
     "data": {
      "text/plain": [
       "51.8724567297564"
      ]
     },
     "execution_count": 26,
     "metadata": {},
     "output_type": "execute_result"
    }
   ],
   "source": [
    "datos.sum_gamerounds.mean()"
   ]
  },
  {
   "cell_type": "code",
   "execution_count": 32,
   "id": "38f422cb",
   "metadata": {},
   "outputs": [
    {
     "data": {
      "text/html": [
       "<div>\n",
       "<style scoped>\n",
       "    .dataframe tbody tr th:only-of-type {\n",
       "        vertical-align: middle;\n",
       "    }\n",
       "\n",
       "    .dataframe tbody tr th {\n",
       "        vertical-align: top;\n",
       "    }\n",
       "\n",
       "    .dataframe thead th {\n",
       "        text-align: right;\n",
       "    }\n",
       "</style>\n",
       "<table border=\"1\" class=\"dataframe\">\n",
       "  <thead>\n",
       "    <tr style=\"text-align: right;\">\n",
       "      <th></th>\n",
       "      <th>userid</th>\n",
       "      <th>version</th>\n",
       "      <th>sum_gamerounds</th>\n",
       "      <th>retention_1</th>\n",
       "      <th>retention_7</th>\n",
       "    </tr>\n",
       "  </thead>\n",
       "  <tbody>\n",
       "    <tr>\n",
       "      <th>0</th>\n",
       "      <td>116</td>\n",
       "      <td>gate_30</td>\n",
       "      <td>3</td>\n",
       "      <td>False</td>\n",
       "      <td>False</td>\n",
       "    </tr>\n",
       "    <tr>\n",
       "      <th>1</th>\n",
       "      <td>337</td>\n",
       "      <td>gate_30</td>\n",
       "      <td>38</td>\n",
       "      <td>True</td>\n",
       "      <td>False</td>\n",
       "    </tr>\n",
       "    <tr>\n",
       "      <th>2</th>\n",
       "      <td>1066</td>\n",
       "      <td>gate_30</td>\n",
       "      <td>0</td>\n",
       "      <td>False</td>\n",
       "      <td>False</td>\n",
       "    </tr>\n",
       "    <tr>\n",
       "      <th>3</th>\n",
       "      <td>2101</td>\n",
       "      <td>gate_30</td>\n",
       "      <td>0</td>\n",
       "      <td>False</td>\n",
       "      <td>False</td>\n",
       "    </tr>\n",
       "    <tr>\n",
       "      <th>4</th>\n",
       "      <td>2179</td>\n",
       "      <td>gate_30</td>\n",
       "      <td>39</td>\n",
       "      <td>True</td>\n",
       "      <td>False</td>\n",
       "    </tr>\n",
       "  </tbody>\n",
       "</table>\n",
       "</div>"
      ],
      "text/plain": [
       "   userid  version  sum_gamerounds  retention_1  retention_7\n",
       "0     116  gate_30               3        False        False\n",
       "1     337  gate_30              38         True        False\n",
       "2    1066  gate_30               0        False        False\n",
       "3    2101  gate_30               0        False        False\n",
       "4    2179  gate_30              39         True        False"
      ]
     },
     "execution_count": 32,
     "metadata": {},
     "output_type": "execute_result"
    }
   ],
   "source": [
    "control = datos[datos.version=='gate_30']\n",
    "\n",
    "tratamiento = datos[datos.version=='gate_40']\n",
    "\n",
    "ab_test1=pd.concat([control, tratamiento], axis=0)\n",
    "\n",
    "ab_test1.reset_index(drop=True, inplace=True)\n",
    "\n",
    "ab_test1.head()"
   ]
  },
  {
   "attachments": {},
   "cell_type": "markdown",
   "id": "df100469",
   "metadata": {},
   "source": [
    "#### TESTEO PARA 1"
   ]
  },
  {
   "cell_type": "code",
   "execution_count": 33,
   "id": "107a092f",
   "metadata": {},
   "outputs": [
    {
     "data": {
      "text/plain": [
       "False    45489\n",
       "True     44700\n",
       "Name: version, dtype: int64"
      ]
     },
     "execution_count": 33,
     "metadata": {},
     "output_type": "execute_result"
    }
   ],
   "source": [
    "# Cuantos jugadores tenemos con la version de 30? Total: 44700\n",
    "# Cuantos jugadores tenemos con la version de 40? Total: 45489\n",
    "(datos['version'] == 'gate_30').value_counts()\n"
   ]
  },
  {
   "cell_type": "code",
   "execution_count": 37,
   "id": "8db9725d",
   "metadata": {},
   "outputs": [
    {
     "data": {
      "text/html": [
       "<div>\n",
       "<style scoped>\n",
       "    .dataframe tbody tr th:only-of-type {\n",
       "        vertical-align: middle;\n",
       "    }\n",
       "\n",
       "    .dataframe tbody tr th {\n",
       "        vertical-align: top;\n",
       "    }\n",
       "\n",
       "    .dataframe thead th {\n",
       "        text-align: right;\n",
       "    }\n",
       "</style>\n",
       "<table border=\"1\" class=\"dataframe\">\n",
       "  <thead>\n",
       "    <tr style=\"text-align: right;\">\n",
       "      <th>retention_1</th>\n",
       "      <th>False</th>\n",
       "      <th>True</th>\n",
       "    </tr>\n",
       "    <tr>\n",
       "      <th>version</th>\n",
       "      <th></th>\n",
       "      <th></th>\n",
       "    </tr>\n",
       "  </thead>\n",
       "  <tbody>\n",
       "    <tr>\n",
       "      <th>gate_30</th>\n",
       "      <td>24666</td>\n",
       "      <td>20034</td>\n",
       "    </tr>\n",
       "    <tr>\n",
       "      <th>gate_40</th>\n",
       "      <td>25370</td>\n",
       "      <td>20119</td>\n",
       "    </tr>\n",
       "  </tbody>\n",
       "</table>\n",
       "</div>"
      ],
      "text/plain": [
       "retention_1  False   True\n",
       "version                  \n",
       "gate_30      24666  20034\n",
       "gate_40      25370  20119"
      ]
     },
     "execution_count": 37,
     "metadata": {},
     "output_type": "execute_result"
    }
   ],
   "source": [
    "# Cuantos jugadores se quedan 1 dia con la de 30? 20 034\n",
    "# Cuantos jugadores se quedan 1 dia con la de 40? 20 119\n",
    "cross_1day = pd.crosstab(datos['version'],datos['retention_1'])\n",
    "cross_1day"
   ]
  },
  {
   "cell_type": "code",
   "execution_count": 69,
   "metadata": {},
   "outputs": [
    {
     "data": {
      "text/plain": [
       "'Tasas conversion: Control (Nivel 30): 0.4481879194630872, Test (Nivel 40): 0.44228274967574577'"
      ]
     },
     "execution_count": 69,
     "metadata": {},
     "output_type": "execute_result"
    }
   ],
   "source": [
    "imps_ctrl, convs_ctrl = 44700, 20034    # juegan,  siguen jugando despues de un dia\n",
    "\n",
    "imps_test, convs_test = 45489, 20119    # juegan,  siguen jugando despues de un dia\n",
    "\n",
    "\n",
    "CR_ctrl = convs_ctrl/imps_ctrl\n",
    "CR_test = convs_test/imps_test\n",
    "\n",
    "f'Tasas conversion: Control (Nivel 30): {CR_ctrl}, Test (Nivel 40): {CR_test}'\n",
    "\n",
    "# Con estos datos podemos conocer los datos de conversion para un dia en las dos versiones."
   ]
  },
  {
   "cell_type": "code",
   "execution_count": 41,
   "id": "01baff72",
   "metadata": {},
   "outputs": [],
   "source": [
    "# a prioris\n",
    "# Se calculan los parámetros para las distribuciones beta a priori.\n",
    "#En este caso, se utilizan las conversiones y las impresiones para estimar los parámetros de las distribuciones beta para cada grupo.\n",
    "\n",
    "a_C  = 1+convs_ctrl             # Conversion de la version de control.                              Es el numero de aciertos\n",
    "b_C = 1+imps_ctrl-convs_ctrl    # Los que juegan menos los que se quedan en la version de control.  Es el numero de fallos\n",
    "\n",
    "a_T = 1+convs_test              # Conversion de la version de test.\n",
    "b_T = 1+imps_test-convs_test    # Los que juegan menos los que se quedan en la version test.\n",
    "\n",
    "beta_control = beta(a_C, b_C)\n",
    "\n",
    "beta_test = beta(a_T, b_T)"
   ]
  },
  {
   "cell_type": "code",
   "execution_count": 42,
   "id": "329f224d",
   "metadata": {},
   "outputs": [
    {
     "data": {
      "text/plain": [
       "(0.44819023757326293, 0.44228528719966587)"
      ]
     },
     "execution_count": 42,
     "metadata": {},
     "output_type": "execute_result"
    }
   ],
   "source": [
    "beta_control.mean(), beta_test.mean()"
   ]
  },
  {
   "cell_type": "code",
   "execution_count": 86,
   "id": "64777d60",
   "metadata": {},
   "outputs": [],
   "source": [
    "from scipy.stats import beta\n",
    "import numpy as np\n",
    "from math import lgamma\n",
    "import matplotlib.pyplot as plt\n",
    "\n",
    "\n",
    "def h(a, b, c, d):\n",
    "    num = lgamma(a + c) + lgamma(b + d) + lgamma(a + b) + lgamma(c + d)\n",
    "    den = lgamma(a) + lgamma(b) + lgamma(c) + lgamma(d) + lgamma(a + b + c + d)\n",
    "    return np.exp(num - den)\n",
    "\n",
    "\n",
    "def hiter(a, b, c, d):\n",
    "    while d > 1:\n",
    "        d -= 1\n",
    "        yield h(a, b, c, d) / d\n",
    "        \n",
    "        \n",
    "def g0(a, b, c):    \n",
    "    return np.exp(lgamma(a + b) + lgamma(a + c) - (lgamma(a + b + c) + lgamma(a)))\n",
    "\n",
    "def g(a, b, c, d):\n",
    "    return g0(a, b, c) + sum(hiter(a, b, c, d))\n",
    "\n",
    "\n",
    "\n",
    "def calc_prob(beta1, beta2):\n",
    "    return g(beta1.args[0], beta1.args[1], beta2.args[0], beta2.args[1])\n",
    "    \n",
    "    \n",
    "\n",
    "def pico(a, b):\n",
    "    return (a-1)/(a+b-2)\n",
    "\n",
    "\n",
    "\n",
    "def plot(betas, names, linf=0.42, lsup=0.48):\n",
    "    x=np.linspace(linf, lsup, 100)\n",
    "    for f, n in zip(betas, names):\n",
    "        y=f.pdf(x)\n",
    "        y_pico=pico(f.args[0], f.args[1])\n",
    "        y_var=f.var()\n",
    "        plt.plot(x, y, label='{}, tasa de conv: {:.6f} $\\pm$ {:.10f}'.format(n, y_pico, y_var))\n",
    "        plt.yticks([])\n",
    "    plt.legend()\n",
    "    plt.show();"
   ]
  },
  {
   "cell_type": "code",
   "execution_count": 87,
   "id": "48060e9c",
   "metadata": {},
   "outputs": [
    {
     "data": {
      "image/png": "[encoded data removed]",
      "text/plain": [
       "<Figure size 640x480 with 1 Axes>"
      ]
     },
     "metadata": {},
     "output_type": "display_data"
    }
   ],
   "source": [
    "plot([beta_control, beta_test],['Control', 'Testeo'])"
   ]
  },
  {
   "attachments": {},
   "cell_type": "markdown",
   "id": "023f2c23",
   "metadata": {},
   "source": [
    "#### TESTEO PARA 7"
   ]
  },
  {
   "cell_type": "code",
   "execution_count": 88,
   "id": "a048a711",
   "metadata": {},
   "outputs": [
    {
     "data": {
      "text/plain": [
       "False    45489\n",
       "True     44700\n",
       "Name: version, dtype: int64"
      ]
     },
     "execution_count": 88,
     "metadata": {},
     "output_type": "execute_result"
    }
   ],
   "source": [
    "# Cuantos jugadores tenemos con la version de 30? Total: 44700\n",
    "# Cuantos jugadores tenemos con la version de 40? Total: 45489\n",
    "(datos['version'] == 'gate_30').value_counts()"
   ]
  },
  {
   "cell_type": "code",
   "execution_count": 90,
   "id": "7e78c02c",
   "metadata": {},
   "outputs": [
    {
     "data": {
      "text/html": [
       "<div>\n",
       "<style scoped>\n",
       "    .dataframe tbody tr th:only-of-type {\n",
       "        vertical-align: middle;\n",
       "    }\n",
       "\n",
       "    .dataframe tbody tr th {\n",
       "        vertical-align: top;\n",
       "    }\n",
       "\n",
       "    .dataframe thead th {\n",
       "        text-align: right;\n",
       "    }\n",
       "</style>\n",
       "<table border=\"1\" class=\"dataframe\">\n",
       "  <thead>\n",
       "    <tr style=\"text-align: right;\">\n",
       "      <th>retention_7</th>\n",
       "      <th>False</th>\n",
       "      <th>True</th>\n",
       "    </tr>\n",
       "    <tr>\n",
       "      <th>version</th>\n",
       "      <th></th>\n",
       "      <th></th>\n",
       "    </tr>\n",
       "  </thead>\n",
       "  <tbody>\n",
       "    <tr>\n",
       "      <th>gate_30</th>\n",
       "      <td>36198</td>\n",
       "      <td>8502</td>\n",
       "    </tr>\n",
       "    <tr>\n",
       "      <th>gate_40</th>\n",
       "      <td>37210</td>\n",
       "      <td>8279</td>\n",
       "    </tr>\n",
       "  </tbody>\n",
       "</table>\n",
       "</div>"
      ],
      "text/plain": [
       "retention_7  False  True\n",
       "version                 \n",
       "gate_30      36198  8502\n",
       "gate_40      37210  8279"
      ]
     },
     "execution_count": 90,
     "metadata": {},
     "output_type": "execute_result"
    }
   ],
   "source": [
    "# Cuantos jugadores se quedan 1 dia con la de 30? 20 034\n",
    "# Cuantos jugadores se quedan 1 dia con la de 40? 20 119\n",
    "cross_1day = pd.crosstab(datos['version'],datos['retention_7'])\n",
    "cross_1day"
   ]
  },
  {
   "cell_type": "code",
   "execution_count": 97,
   "metadata": {},
   "outputs": [
    {
     "data": {
      "text/plain": [
       "'Tasas conversion: Control (Nivel 30): 0.19020134228187918, Test (Nivel 40): 0.18200004396667327'"
      ]
     },
     "execution_count": 97,
     "metadata": {},
     "output_type": "execute_result"
    }
   ],
   "source": [
    "imps_ctrl, convs_ctrl = 44700, 8502   # juegan,  siguen jugando despues de un dia\n",
    "\n",
    "imps_test, convs_test = 45489, 8279    # juegan,  siguen jugando despues de un dia\n",
    "\n",
    "\n",
    "CR_ctrl = convs_ctrl/imps_ctrl\n",
    "CR_test = convs_test/imps_test\n",
    "\n",
    "f'Tasas conversion: Control (Nivel 30): {CR_ctrl}, Test (Nivel 40): {CR_test}'\n",
    "\n",
    "# Con estos datos podemos conocer los datos de conversion para un dia en las dos versiones."
   ]
  },
  {
   "cell_type": "code",
   "execution_count": 98,
   "id": "023a15fc",
   "metadata": {},
   "outputs": [],
   "source": [
    "# a prioris\n",
    "# Se calculan los parámetros para las distribuciones beta a priori.\n",
    "#En este caso, se utilizan las conversiones y las impresiones para estimar los parámetros de las distribuciones beta para cada grupo.\n",
    "\n",
    "a_C  = 1+convs_ctrl             # Conversion de la version de control.                              Es el numero de aciertos\n",
    "b_C = 1+imps_ctrl-convs_ctrl    # Los que juegan menos los que se quedan en la version de control.  Es el numero de fallos\n",
    "\n",
    "a_T = 1+convs_test              # Conversion de la version de test.\n",
    "b_T = 1+imps_test-convs_test    # Los que juegan menos los que se quedan en la version test.\n",
    "\n",
    "beta_control = beta(a_C, b_C)\n",
    "\n",
    "beta_test = beta(a_T, b_T)"
   ]
  },
  {
   "cell_type": "code",
   "execution_count": 99,
   "metadata": {},
   "outputs": [
    {
     "data": {
      "text/plain": [
       "(0.19021520289919913, 0.18201402475214878)"
      ]
     },
     "execution_count": 99,
     "metadata": {},
     "output_type": "execute_result"
    }
   ],
   "source": [
    "beta_control.mean(), beta_test.mean()"
   ]
  },
  {
   "cell_type": "code",
   "execution_count": 100,
   "id": "1d0f59b2",
   "metadata": {},
   "outputs": [],
   "source": [
    "from scipy.stats import beta\n",
    "import numpy as np\n",
    "from math import lgamma\n",
    "import matplotlib.pyplot as plt\n",
    "\n",
    "\n",
    "def h(a, b, c, d):\n",
    "    num = lgamma(a + c) + lgamma(b + d) + lgamma(a + b) + lgamma(c + d)\n",
    "    den = lgamma(a) + lgamma(b) + lgamma(c) + lgamma(d) + lgamma(a + b + c + d)\n",
    "    return np.exp(num - den)\n",
    "\n",
    "\n",
    "def hiter(a, b, c, d):\n",
    "    while d > 1:\n",
    "        d -= 1\n",
    "        yield h(a, b, c, d) / d\n",
    "        \n",
    "        \n",
    "def g0(a, b, c):    \n",
    "    return np.exp(lgamma(a + b) + lgamma(a + c) - (lgamma(a + b + c) + lgamma(a)))\n",
    "\n",
    "def g(a, b, c, d):\n",
    "    return g0(a, b, c) + sum(hiter(a, b, c, d))\n",
    "\n",
    "\n",
    "\n",
    "def calc_prob(beta1, beta2):\n",
    "    return g(beta1.args[0], beta1.args[1], beta2.args[0], beta2.args[1])\n",
    "    \n",
    "    \n",
    "\n",
    "def pico(a, b):\n",
    "    return (a-1)/(a+b-2)\n",
    "\n",
    "\n",
    "\n",
    "def plot(betas, names, linf=0.165, lsup=0.20):\n",
    "    x=np.linspace(linf, lsup, 100)\n",
    "    for f, n in zip(betas, names):\n",
    "        y=f.pdf(x)\n",
    "        y_pico=pico(f.args[0], f.args[1])\n",
    "        y_var=f.var()\n",
    "        plt.plot(x, y, label='{}, tasa de conv: {:.6f} $\\pm$ {:.10f}'.format(n, y_pico, y_var))\n",
    "        plt.yticks([])\n",
    "    plt.legend()\n",
    "    plt.show();"
   ]
  },
  {
   "cell_type": "code",
   "execution_count": 101,
   "id": "0f2a4409",
   "metadata": {},
   "outputs": [
    {
     "data": {
      "image/png": "[encoded data removed]",
      "text/plain": [
       "<Figure size 640x480 with 1 Axes>"
      ]
     },
     "metadata": {},
     "output_type": "display_data"
    }
   ],
   "source": [
    "plot([beta_control, beta_test],['Control', 'Testeo'])"
   ]
  },
  {
   "attachments": {},
   "cell_type": "markdown",
   "id": "a5ebd618",
   "metadata": {},
   "source": [
    "#### CONCLUSIÓN"
   ]
  },
  {
   "attachments": {},
   "cell_type": "markdown",
   "id": "2c3aae4f",
   "metadata": {},
   "source": [
    "### UN DIA\n",
    "\n",
    "El rato de conversion es mayor en la version de control (Nivel 30) que en la version de test (Nivel 40). El ratio de conversion empeora en un 1.32%.\n",
    "\n",
    "### SIETE DIAS\n",
    "\n",
    "El rato de conversion es mayor en la version de control (Nivel 30) que en la version de test (Nivel 40). El ratio de conversion empeora en un porcentaje mayor que en un dia.\n",
    "\n",
    "### CONCLUSION FINAL\n",
    "\n",
    "El consejo seria no cambiar de version y mantener la version de control en el nivel 30."
   ]
  }
 ],
 "metadata": {
  "finalized": {
   "timestamp": 1642857010293,
   "trusted": true
  },
  "kernelspec": {
   "display_name": "base",
   "language": "python",
   "name": "python3"
  },
  "language_info": {
   "codemirror_mode": {
    "name": "ipython",
    "version": 3
   },
   "file_extension": ".py",
   "mimetype": "text/x-python",
   "name": "python",
   "nbconvert_exporter": "python",
   "pygments_lexer": "ipython3",
   "version": "3.9.13"
  },
  "toc": {
   "base_numbering": 1,
   "nav_menu": {},
   "number_sections": true,
   "sideBar": true,
   "skip_h1_title": false,
   "title_cell": "Table of Contents",
   "title_sidebar": "Contents",
   "toc_cell": true,
   "toc_position": {},
   "toc_section_display": true,
   "toc_window_display": false
  },
  "varInspector": {
   "cols": {
    "lenName": 16,
    "lenType": 16,
    "lenVar": 40
   },
   "kernels_config": {
    "python": {
     "delete_cmd_postfix": "",
     "delete_cmd_prefix": "del ",
     "library": "var_list.py",
     "varRefreshCmd": "print(var_dic_list())"
    },
    "r": {
     "delete_cmd_postfix": ") ",
     "delete_cmd_prefix": "rm(",
     "library": "var_list.r",
     "varRefreshCmd": "cat(var_dic_list()) "
    }
   },
   "types_to_exclude": [
    "module",
    "function",
    "builtin_function_or_method",
    "instance",
    "_Feature"
   ],
   "window_display": false
  }
 },
 "nbformat": 4,
 "nbformat_minor": 5
}
